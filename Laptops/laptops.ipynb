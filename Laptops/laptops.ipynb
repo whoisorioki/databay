{
 "cells": [
  {
   "attachments": {},
   "cell_type": "markdown",
   "metadata": {},
   "source": [
    "# Data Cleaning Using pandas"
   ]
  },
  {
   "cell_type": "code",
   "execution_count": 410,
   "metadata": {},
   "outputs": [],
   "source": [
    "# import libraries\n",
    "import pandas as pd"
   ]
  },
  {
   "cell_type": "code",
   "execution_count": 411,
   "metadata": {},
   "outputs": [
    {
     "data": {
      "text/html": [
       "<div>\n",
       "<style scoped>\n",
       "    .dataframe tbody tr th:only-of-type {\n",
       "        vertical-align: middle;\n",
       "    }\n",
       "\n",
       "    .dataframe tbody tr th {\n",
       "        vertical-align: top;\n",
       "    }\n",
       "\n",
       "    .dataframe thead th {\n",
       "        text-align: right;\n",
       "    }\n",
       "</style>\n",
       "<table border=\"1\" class=\"dataframe\">\n",
       "  <thead>\n",
       "    <tr style=\"text-align: right;\">\n",
       "      <th></th>\n",
       "      <th>Manufacturer</th>\n",
       "      <th>Model Name</th>\n",
       "      <th>Category</th>\n",
       "      <th>Screen Size</th>\n",
       "      <th>Screen</th>\n",
       "      <th>CPU</th>\n",
       "      <th>RAM</th>\n",
       "      <th>Storage</th>\n",
       "      <th>GPU</th>\n",
       "      <th>Operating System</th>\n",
       "      <th>Operating System Version</th>\n",
       "      <th>Weight</th>\n",
       "      <th>Price (Euros)</th>\n",
       "    </tr>\n",
       "  </thead>\n",
       "  <tbody>\n",
       "    <tr>\n",
       "      <th>0</th>\n",
       "      <td>Apple</td>\n",
       "      <td>MacBook Pro</td>\n",
       "      <td>Ultrabook</td>\n",
       "      <td>13.3\"</td>\n",
       "      <td>IPS Panel Retina Display 2560x1600</td>\n",
       "      <td>Intel Core i5 2.3GHz</td>\n",
       "      <td>8GB</td>\n",
       "      <td>128GB SSD</td>\n",
       "      <td>Intel Iris Plus Graphics 640</td>\n",
       "      <td>macOS</td>\n",
       "      <td>NaN</td>\n",
       "      <td>1.37kg</td>\n",
       "      <td>1339,69</td>\n",
       "    </tr>\n",
       "    <tr>\n",
       "      <th>1</th>\n",
       "      <td>Apple</td>\n",
       "      <td>Macbook Air</td>\n",
       "      <td>Ultrabook</td>\n",
       "      <td>13.3\"</td>\n",
       "      <td>1440x900</td>\n",
       "      <td>Intel Core i5 1.8GHz</td>\n",
       "      <td>8GB</td>\n",
       "      <td>128GB Flash Storage</td>\n",
       "      <td>Intel HD Graphics 6000</td>\n",
       "      <td>macOS</td>\n",
       "      <td>NaN</td>\n",
       "      <td>1.34kg</td>\n",
       "      <td>898,94</td>\n",
       "    </tr>\n",
       "    <tr>\n",
       "      <th>2</th>\n",
       "      <td>HP</td>\n",
       "      <td>250 G6</td>\n",
       "      <td>Notebook</td>\n",
       "      <td>15.6\"</td>\n",
       "      <td>Full HD 1920x1080</td>\n",
       "      <td>Intel Core i5 7200U 2.5GHz</td>\n",
       "      <td>8GB</td>\n",
       "      <td>256GB SSD</td>\n",
       "      <td>Intel HD Graphics 620</td>\n",
       "      <td>No OS</td>\n",
       "      <td>NaN</td>\n",
       "      <td>1.86kg</td>\n",
       "      <td>575,00</td>\n",
       "    </tr>\n",
       "    <tr>\n",
       "      <th>3</th>\n",
       "      <td>Apple</td>\n",
       "      <td>MacBook Pro</td>\n",
       "      <td>Ultrabook</td>\n",
       "      <td>15.4\"</td>\n",
       "      <td>IPS Panel Retina Display 2880x1800</td>\n",
       "      <td>Intel Core i7 2.7GHz</td>\n",
       "      <td>16GB</td>\n",
       "      <td>512GB SSD</td>\n",
       "      <td>AMD Radeon Pro 455</td>\n",
       "      <td>macOS</td>\n",
       "      <td>NaN</td>\n",
       "      <td>1.83kg</td>\n",
       "      <td>2537,45</td>\n",
       "    </tr>\n",
       "    <tr>\n",
       "      <th>4</th>\n",
       "      <td>Apple</td>\n",
       "      <td>MacBook Pro</td>\n",
       "      <td>Ultrabook</td>\n",
       "      <td>13.3\"</td>\n",
       "      <td>IPS Panel Retina Display 2560x1600</td>\n",
       "      <td>Intel Core i5 3.1GHz</td>\n",
       "      <td>8GB</td>\n",
       "      <td>256GB SSD</td>\n",
       "      <td>Intel Iris Plus Graphics 650</td>\n",
       "      <td>macOS</td>\n",
       "      <td>NaN</td>\n",
       "      <td>1.37kg</td>\n",
       "      <td>1803,60</td>\n",
       "    </tr>\n",
       "  </tbody>\n",
       "</table>\n",
       "</div>"
      ],
      "text/plain": [
       "  Manufacturer   Model Name   Category Screen Size   \n",
       "0        Apple  MacBook Pro  Ultrabook       13.3\"  \\\n",
       "1        Apple  Macbook Air  Ultrabook       13.3\"   \n",
       "2           HP       250 G6   Notebook       15.6\"   \n",
       "3        Apple  MacBook Pro  Ultrabook       15.4\"   \n",
       "4        Apple  MacBook Pro  Ultrabook       13.3\"   \n",
       "\n",
       "                               Screen                         CPU   RAM   \n",
       "0  IPS Panel Retina Display 2560x1600        Intel Core i5 2.3GHz   8GB  \\\n",
       "1                            1440x900        Intel Core i5 1.8GHz   8GB   \n",
       "2                   Full HD 1920x1080  Intel Core i5 7200U 2.5GHz   8GB   \n",
       "3  IPS Panel Retina Display 2880x1800        Intel Core i7 2.7GHz  16GB   \n",
       "4  IPS Panel Retina Display 2560x1600        Intel Core i5 3.1GHz   8GB   \n",
       "\n",
       "               Storage                           GPU Operating System   \n",
       "0            128GB SSD  Intel Iris Plus Graphics 640            macOS  \\\n",
       "1  128GB Flash Storage        Intel HD Graphics 6000            macOS   \n",
       "2            256GB SSD         Intel HD Graphics 620            No OS   \n",
       "3            512GB SSD            AMD Radeon Pro 455            macOS   \n",
       "4            256GB SSD  Intel Iris Plus Graphics 650            macOS   \n",
       "\n",
       "  Operating System Version  Weight Price (Euros)  \n",
       "0                      NaN  1.37kg       1339,69  \n",
       "1                      NaN  1.34kg        898,94  \n",
       "2                      NaN  1.86kg        575,00  \n",
       "3                      NaN  1.83kg       2537,45  \n",
       "4                      NaN  1.37kg       1803,60  "
      ]
     },
     "execution_count": 411,
     "metadata": {},
     "output_type": "execute_result"
    }
   ],
   "source": [
    "df = pd.read_csv('laptops.csv')\n",
    "df.head()"
   ]
  },
  {
   "cell_type": "code",
   "execution_count": 412,
   "metadata": {},
   "outputs": [
    {
     "name": "stdout",
     "output_type": "stream",
     "text": [
      "<class 'pandas.core.frame.DataFrame'>\n",
      "RangeIndex: 1303 entries, 0 to 1302\n",
      "Data columns (total 13 columns):\n",
      " #   Column                    Non-Null Count  Dtype \n",
      "---  ------                    --------------  ----- \n",
      " 0   Manufacturer              1303 non-null   object\n",
      " 1   Model Name                1303 non-null   object\n",
      " 2   Category                  1303 non-null   object\n",
      " 3   Screen Size               1303 non-null   object\n",
      " 4   Screen                    1303 non-null   object\n",
      " 5   CPU                       1303 non-null   object\n",
      " 6   RAM                       1303 non-null   object\n",
      " 7    Storage                  1303 non-null   object\n",
      " 8   GPU                       1303 non-null   object\n",
      " 9   Operating System          1303 non-null   object\n",
      " 10  Operating System Version  1133 non-null   object\n",
      " 11  Weight                    1303 non-null   object\n",
      " 12  Price (Euros)             1303 non-null   object\n",
      "dtypes: object(13)\n",
      "memory usage: 132.5+ KB\n"
     ]
    }
   ],
   "source": [
    "df.info()"
   ]
  },
  {
   "cell_type": "code",
   "execution_count": 413,
   "metadata": {},
   "outputs": [
    {
     "data": {
      "text/plain": [
       "Index(['Manufacturer', 'Model Name', 'Category', 'Screen Size', 'Screen',\n",
       "       'CPU', 'RAM', ' Storage', 'GPU', 'Operating System',\n",
       "       'Operating System Version', 'Weight', 'Price (Euros)'],\n",
       "      dtype='object')"
      ]
     },
     "execution_count": 413,
     "metadata": {},
     "output_type": "execute_result"
    }
   ],
   "source": [
    "df.columns"
   ]
  },
  {
   "cell_type": "code",
   "execution_count": 414,
   "metadata": {},
   "outputs": [
    {
     "data": {
      "text/plain": [
       "Index(['manufacturer', 'model_name', 'category', 'screen_size', 'screen',\n",
       "       'cpu', 'ram', 'storage', 'gpu', 'os', 'os_version', 'weight',\n",
       "       'price_euros'],\n",
       "      dtype='object')"
      ]
     },
     "execution_count": 414,
     "metadata": {},
     "output_type": "execute_result"
    }
   ],
   "source": [
    "# Renaming the columns\n",
    "def clean_col(col):\n",
    "    col = col.strip()\n",
    "    col = col.replace(\"Operating System\", \"os\")\n",
    "    col = col.replace(\" \",\"_\")\n",
    "    col = col.replace(\"(\",\"\")\n",
    "    col = col.replace(\")\",\"\")\n",
    "    col = col.lower()\n",
    "    return col\n",
    "\n",
    "new_columns = []\n",
    "for column in df.columns:\n",
    "    clean_c = clean_col(column)\n",
    "    new_columns.append(clean_c)\n",
    "    \n",
    "df.columns = new_columns\n",
    "df.columns"
   ]
  },
  {
   "cell_type": "code",
   "execution_count": 415,
   "metadata": {},
   "outputs": [
    {
     "data": {
      "text/plain": [
       "array(['8GB', '16GB', '4GB', '2GB', '12GB', '6GB', '32GB', '24GB', '64GB'],\n",
       "      dtype=object)"
      ]
     },
     "execution_count": 415,
     "metadata": {},
     "output_type": "execute_result"
    }
   ],
   "source": [
    "df['ram'].unique()"
   ]
  },
  {
   "cell_type": "code",
   "execution_count": 416,
   "metadata": {},
   "outputs": [
    {
     "data": {
      "text/plain": [
       "0"
      ]
     },
     "execution_count": 416,
     "metadata": {},
     "output_type": "execute_result"
    }
   ],
   "source": [
    "df['weight'].str.isnumeric().sum()"
   ]
  },
  {
   "cell_type": "code",
   "execution_count": 417,
   "metadata": {},
   "outputs": [],
   "source": [
    "df['ram'] = df['ram'].str.replace('GB', '').astype('int64')\n",
    "df['screen_size'] = df['screen_size'].str.replace('\"', '').astype('float64')\n",
    "df['price_euros'] = df['price_euros'].str.replace(',', '.').astype('float64')\n",
    "df['weight'] = df['weight'].str.replace('kg', '').str.replace('s', '').astype('float64')"
   ]
  },
  {
   "cell_type": "code",
   "execution_count": 418,
   "metadata": {},
   "outputs": [
    {
     "data": {
      "text/html": [
       "<div>\n",
       "<style scoped>\n",
       "    .dataframe tbody tr th:only-of-type {\n",
       "        vertical-align: middle;\n",
       "    }\n",
       "\n",
       "    .dataframe tbody tr th {\n",
       "        vertical-align: top;\n",
       "    }\n",
       "\n",
       "    .dataframe thead th {\n",
       "        text-align: right;\n",
       "    }\n",
       "</style>\n",
       "<table border=\"1\" class=\"dataframe\">\n",
       "  <thead>\n",
       "    <tr style=\"text-align: right;\">\n",
       "      <th></th>\n",
       "      <th>manufacturer</th>\n",
       "      <th>model_name</th>\n",
       "      <th>category</th>\n",
       "      <th>screen_size</th>\n",
       "      <th>screen</th>\n",
       "      <th>cpu</th>\n",
       "      <th>ram</th>\n",
       "      <th>storage</th>\n",
       "      <th>gpu</th>\n",
       "      <th>os</th>\n",
       "      <th>os_version</th>\n",
       "      <th>weight</th>\n",
       "      <th>price_euros</th>\n",
       "    </tr>\n",
       "  </thead>\n",
       "  <tbody>\n",
       "    <tr>\n",
       "      <th>1298</th>\n",
       "      <td>Lenovo</td>\n",
       "      <td>Yoga 500-14ISK</td>\n",
       "      <td>2 in 1 Convertible</td>\n",
       "      <td>14.0</td>\n",
       "      <td>IPS Panel Full HD / Touchscreen 1920x1080</td>\n",
       "      <td>Intel Core i7 6500U 2.5GHz</td>\n",
       "      <td>4</td>\n",
       "      <td>128GB SSD</td>\n",
       "      <td>Intel HD Graphics 520</td>\n",
       "      <td>Windows</td>\n",
       "      <td>10</td>\n",
       "      <td>1.80</td>\n",
       "      <td>638.0</td>\n",
       "    </tr>\n",
       "    <tr>\n",
       "      <th>1299</th>\n",
       "      <td>Lenovo</td>\n",
       "      <td>Yoga 900-13ISK</td>\n",
       "      <td>2 in 1 Convertible</td>\n",
       "      <td>13.3</td>\n",
       "      <td>IPS Panel Quad HD+ / Touchscreen 3200x1800</td>\n",
       "      <td>Intel Core i7 6500U 2.5GHz</td>\n",
       "      <td>16</td>\n",
       "      <td>512GB SSD</td>\n",
       "      <td>Intel HD Graphics 520</td>\n",
       "      <td>Windows</td>\n",
       "      <td>10</td>\n",
       "      <td>1.30</td>\n",
       "      <td>1499.0</td>\n",
       "    </tr>\n",
       "    <tr>\n",
       "      <th>1300</th>\n",
       "      <td>Lenovo</td>\n",
       "      <td>IdeaPad 100S-14IBR</td>\n",
       "      <td>Notebook</td>\n",
       "      <td>14.0</td>\n",
       "      <td>1366x768</td>\n",
       "      <td>Intel Celeron Dual Core N3050 1.6GHz</td>\n",
       "      <td>2</td>\n",
       "      <td>64GB Flash Storage</td>\n",
       "      <td>Intel HD Graphics</td>\n",
       "      <td>Windows</td>\n",
       "      <td>10</td>\n",
       "      <td>1.50</td>\n",
       "      <td>229.0</td>\n",
       "    </tr>\n",
       "    <tr>\n",
       "      <th>1301</th>\n",
       "      <td>HP</td>\n",
       "      <td>15-AC110nv (i7-6500U/6GB/1TB/Radeon</td>\n",
       "      <td>Notebook</td>\n",
       "      <td>15.6</td>\n",
       "      <td>1366x768</td>\n",
       "      <td>Intel Core i7 6500U 2.5GHz</td>\n",
       "      <td>6</td>\n",
       "      <td>1TB HDD</td>\n",
       "      <td>AMD Radeon R5 M330</td>\n",
       "      <td>Windows</td>\n",
       "      <td>10</td>\n",
       "      <td>2.19</td>\n",
       "      <td>764.0</td>\n",
       "    </tr>\n",
       "    <tr>\n",
       "      <th>1302</th>\n",
       "      <td>Asus</td>\n",
       "      <td>X553SA-XX031T (N3050/4GB/500GB/W10)</td>\n",
       "      <td>Notebook</td>\n",
       "      <td>15.6</td>\n",
       "      <td>1366x768</td>\n",
       "      <td>Intel Celeron Dual Core N3050 1.6GHz</td>\n",
       "      <td>4</td>\n",
       "      <td>500GB HDD</td>\n",
       "      <td>Intel HD Graphics</td>\n",
       "      <td>Windows</td>\n",
       "      <td>10</td>\n",
       "      <td>2.20</td>\n",
       "      <td>369.0</td>\n",
       "    </tr>\n",
       "  </tbody>\n",
       "</table>\n",
       "</div>"
      ],
      "text/plain": [
       "     manufacturer                           model_name            category   \n",
       "1298       Lenovo                       Yoga 500-14ISK  2 in 1 Convertible  \\\n",
       "1299       Lenovo                       Yoga 900-13ISK  2 in 1 Convertible   \n",
       "1300       Lenovo                   IdeaPad 100S-14IBR            Notebook   \n",
       "1301           HP  15-AC110nv (i7-6500U/6GB/1TB/Radeon            Notebook   \n",
       "1302         Asus  X553SA-XX031T (N3050/4GB/500GB/W10)            Notebook   \n",
       "\n",
       "      screen_size                                      screen   \n",
       "1298         14.0   IPS Panel Full HD / Touchscreen 1920x1080  \\\n",
       "1299         13.3  IPS Panel Quad HD+ / Touchscreen 3200x1800   \n",
       "1300         14.0                                    1366x768   \n",
       "1301         15.6                                    1366x768   \n",
       "1302         15.6                                    1366x768   \n",
       "\n",
       "                                       cpu  ram             storage   \n",
       "1298            Intel Core i7 6500U 2.5GHz    4           128GB SSD  \\\n",
       "1299            Intel Core i7 6500U 2.5GHz   16           512GB SSD   \n",
       "1300  Intel Celeron Dual Core N3050 1.6GHz    2  64GB Flash Storage   \n",
       "1301            Intel Core i7 6500U 2.5GHz    6             1TB HDD   \n",
       "1302  Intel Celeron Dual Core N3050 1.6GHz    4           500GB HDD   \n",
       "\n",
       "                        gpu       os os_version  weight  price_euros  \n",
       "1298  Intel HD Graphics 520  Windows         10    1.80        638.0  \n",
       "1299  Intel HD Graphics 520  Windows         10    1.30       1499.0  \n",
       "1300      Intel HD Graphics  Windows         10    1.50        229.0  \n",
       "1301     AMD Radeon R5 M330  Windows         10    2.19        764.0  \n",
       "1302      Intel HD Graphics  Windows         10    2.20        369.0  "
      ]
     },
     "execution_count": 418,
     "metadata": {},
     "output_type": "execute_result"
    }
   ],
   "source": [
    "df.tail()"
   ]
  },
  {
   "cell_type": "code",
   "execution_count": 419,
   "metadata": {},
   "outputs": [
    {
     "data": {
      "text/plain": [
       "Index(['manufacturer', 'model_name', 'category', 'screen_size', 'screen',\n",
       "       'cpu', 'ram_gb', 'storage', 'gpu', 'os', 'os_version', 'weight_kg',\n",
       "       'price_euros'],\n",
       "      dtype='object')"
      ]
     },
     "execution_count": 419,
     "metadata": {},
     "output_type": "execute_result"
    }
   ],
   "source": [
    "df.rename({'ram': 'ram_gb', 'weight': 'weight_kg'}, axis=1, inplace=True)\n",
    "df.columns"
   ]
  },
  {
   "cell_type": "code",
   "execution_count": 420,
   "metadata": {},
   "outputs": [
    {
     "data": {
      "text/plain": [
       "cpu\n",
       "Intel      1240\n",
       "AMD          62\n",
       "Samsung       1\n",
       "Name: count, dtype: int64"
      ]
     },
     "execution_count": 420,
     "metadata": {},
     "output_type": "execute_result"
    }
   ],
   "source": [
    "cpu_manufacturer = df['cpu'].str.split().str[0]\n",
    "cpu_manufacturer.value_counts()"
   ]
  },
  {
   "cell_type": "code",
   "execution_count": 421,
   "metadata": {},
   "outputs": [
    {
     "data": {
      "text/plain": [
       "os\n",
       "Windows      1125\n",
       "No OS          66\n",
       "Linux          62\n",
       "Chrome OS      27\n",
       "macOS          21\n",
       "Android         2\n",
       "Name: count, dtype: int64"
      ]
     },
     "execution_count": 421,
     "metadata": {},
     "output_type": "execute_result"
    }
   ],
   "source": [
    "\n",
    "mapping_dict = {\n",
    "    'Android': 'Android',\n",
    "    'Chrome OS': 'Chrome OS',\n",
    "    'Linux': 'Linux',\n",
    "    'Mac OS': 'macOS',\n",
    "    'No OS': 'No OS',\n",
    "    'Windows': 'Windows',\n",
    "    'macOS': 'macOS'\n",
    "}\n",
    "\n",
    "df['os'] = df['os'].map(mapping_dict)\n",
    "df['os'].value_counts()"
   ]
  },
  {
   "cell_type": "code",
   "execution_count": 422,
   "metadata": {},
   "outputs": [
    {
     "data": {
      "text/plain": [
       "manufacturer      0\n",
       "model_name        0\n",
       "category          0\n",
       "screen_size       0\n",
       "screen            0\n",
       "cpu               0\n",
       "ram_gb            0\n",
       "storage           0\n",
       "gpu               0\n",
       "os                0\n",
       "os_version      170\n",
       "weight_kg         0\n",
       "price_euros       0\n",
       "dtype: int64"
      ]
     },
     "execution_count": 422,
     "metadata": {},
     "output_type": "execute_result"
    }
   ],
   "source": [
    "df.isnull().sum()"
   ]
  },
  {
   "cell_type": "code",
   "execution_count": 423,
   "metadata": {},
   "outputs": [
    {
     "data": {
      "text/plain": [
       "os\n",
       "No OS        66\n",
       "Linux        62\n",
       "Chrome OS    27\n",
       "macOS        13\n",
       "Android       2\n",
       "Name: count, dtype: int64"
      ]
     },
     "execution_count": 423,
     "metadata": {},
     "output_type": "execute_result"
    }
   ],
   "source": [
    "df.loc[df['os_version'].isnull(), 'os'].value_counts()"
   ]
  },
  {
   "cell_type": "code",
   "execution_count": 424,
   "metadata": {},
   "outputs": [],
   "source": [
    "df.loc[df['os'] == 'macOS', 'os_version'] = 'X'\n",
    "df.loc[df['os'] == 'No OS', 'os_version'] = 'Version Unknown'\n",
    "df.loc[df['os'] == 'Linux', 'os_version'] = 'Version Unknown'\n",
    "df.loc[df['os'] == 'Chrome OS', 'os_version'] = 'Version Unknown'\n",
    "df.loc[df['os'] == 'Android', 'os_version'] = 'Version Unknown'"
   ]
  },
  {
   "cell_type": "code",
   "execution_count": 425,
   "metadata": {},
   "outputs": [
    {
     "data": {
      "text/plain": [
       "manufacturer    0\n",
       "model_name      0\n",
       "category        0\n",
       "screen_size     0\n",
       "screen          0\n",
       "cpu             0\n",
       "ram_gb          0\n",
       "storage         0\n",
       "gpu             0\n",
       "os              0\n",
       "os_version      0\n",
       "weight_kg       0\n",
       "price_euros     0\n",
       "dtype: int64"
      ]
     },
     "execution_count": 425,
     "metadata": {},
     "output_type": "execute_result"
    }
   ],
   "source": [
    "df.isnull().sum()"
   ]
  },
  {
   "cell_type": "code",
   "execution_count": 426,
   "metadata": {},
   "outputs": [
    {
     "name": "stdout",
     "output_type": "stream",
     "text": [
      "<class 'pandas.core.frame.DataFrame'>\n",
      "RangeIndex: 1303 entries, 0 to 1302\n",
      "Data columns (total 13 columns):\n",
      " #   Column        Non-Null Count  Dtype  \n",
      "---  ------        --------------  -----  \n",
      " 0   manufacturer  1303 non-null   object \n",
      " 1   model_name    1303 non-null   object \n",
      " 2   category      1303 non-null   object \n",
      " 3   screen_size   1303 non-null   float64\n",
      " 4   screen        1303 non-null   object \n",
      " 5   cpu           1303 non-null   object \n",
      " 6   ram_gb        1303 non-null   int64  \n",
      " 7   storage       1303 non-null   object \n",
      " 8   gpu           1303 non-null   object \n",
      " 9   os            1303 non-null   object \n",
      " 10  os_version    1303 non-null   object \n",
      " 11  weight_kg     1303 non-null   float64\n",
      " 12  price_euros   1303 non-null   float64\n",
      "dtypes: float64(3), int64(1), object(9)\n",
      "memory usage: 132.5+ KB\n"
     ]
    }
   ],
   "source": [
    "df.info()"
   ]
  },
  {
   "cell_type": "code",
   "execution_count": 427,
   "metadata": {},
   "outputs": [],
   "source": [
    "# df.to_csv('cleaned_laptops.csv', index=False)"
   ]
  }
 ],
 "metadata": {
  "kernelspec": {
   "display_name": "databay",
   "language": "python",
   "name": "python3"
  },
  "language_info": {
   "codemirror_mode": {
    "name": "ipython",
    "version": 3
   },
   "file_extension": ".py",
   "mimetype": "text/x-python",
   "name": "python",
   "nbconvert_exporter": "python",
   "pygments_lexer": "ipython3",
   "version": "3.9.16"
  },
  "orig_nbformat": 4
 },
 "nbformat": 4,
 "nbformat_minor": 2
}
