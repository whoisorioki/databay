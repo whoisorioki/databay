{
 "cells": [
  {
   "attachments": {},
   "cell_type": "markdown",
   "metadata": {},
   "source": [
    "# Exploring Data with Pandas: Fundamentals"
   ]
  },
  {
   "cell_type": "code",
   "execution_count": 107,
   "metadata": {},
   "outputs": [],
   "source": [
    "# Import libraries\n",
    "import pandas as pd\n",
    "import numpy as np"
   ]
  },
  {
   "cell_type": "code",
   "execution_count": 108,
   "metadata": {},
   "outputs": [
    {
     "data": {
      "text/html": [
       "<div>\n",
       "<style scoped>\n",
       "    .dataframe tbody tr th:only-of-type {\n",
       "        vertical-align: middle;\n",
       "    }\n",
       "\n",
       "    .dataframe tbody tr th {\n",
       "        vertical-align: top;\n",
       "    }\n",
       "\n",
       "    .dataframe thead th {\n",
       "        text-align: right;\n",
       "    }\n",
       "</style>\n",
       "<table border=\"1\" class=\"dataframe\">\n",
       "  <thead>\n",
       "    <tr style=\"text-align: right;\">\n",
       "      <th></th>\n",
       "      <th>Rank</th>\n",
       "      <th>Company Name</th>\n",
       "      <th>Country</th>\n",
       "      <th>Number of Employees</th>\n",
       "      <th>Previous Rank</th>\n",
       "      <th>Revenues($millions)</th>\n",
       "      <th>Revenue Change</th>\n",
       "      <th>Profits($millions)</th>\n",
       "      <th>Profit Change</th>\n",
       "      <th>Assets($millions)</th>\n",
       "    </tr>\n",
       "  </thead>\n",
       "  <tbody>\n",
       "    <tr>\n",
       "      <th>0</th>\n",
       "      <td>1</td>\n",
       "      <td>Walmart</td>\n",
       "      <td>USA</td>\n",
       "      <td>2,300,000</td>\n",
       "      <td>1</td>\n",
       "      <td>$485,873</td>\n",
       "      <td>0.8%</td>\n",
       "      <td>$13,643.0</td>\n",
       "      <td>-7.2%</td>\n",
       "      <td>$198,825</td>\n",
       "    </tr>\n",
       "    <tr>\n",
       "      <th>1</th>\n",
       "      <td>2</td>\n",
       "      <td>State Grid</td>\n",
       "      <td>China</td>\n",
       "      <td>926,067</td>\n",
       "      <td>2</td>\n",
       "      <td>$315,199</td>\n",
       "      <td>-4.4%</td>\n",
       "      <td>$9,571.3</td>\n",
       "      <td>-6.2%</td>\n",
       "      <td>$489,838</td>\n",
       "    </tr>\n",
       "    <tr>\n",
       "      <th>2</th>\n",
       "      <td>3</td>\n",
       "      <td>Sinopec Group</td>\n",
       "      <td>China</td>\n",
       "      <td>713,288</td>\n",
       "      <td>4</td>\n",
       "      <td>$267,518</td>\n",
       "      <td>-9.1%</td>\n",
       "      <td>$1,257.9</td>\n",
       "      <td>-65.0%</td>\n",
       "      <td>$310,726</td>\n",
       "    </tr>\n",
       "    <tr>\n",
       "      <th>3</th>\n",
       "      <td>4</td>\n",
       "      <td>China National Petroleum</td>\n",
       "      <td>China</td>\n",
       "      <td>1,512,048</td>\n",
       "      <td>3</td>\n",
       "      <td>$262,573</td>\n",
       "      <td>-12.3%</td>\n",
       "      <td>$1,867.5</td>\n",
       "      <td>-73.7%</td>\n",
       "      <td>$585,619</td>\n",
       "    </tr>\n",
       "    <tr>\n",
       "      <th>4</th>\n",
       "      <td>5</td>\n",
       "      <td>Toyota Motor</td>\n",
       "      <td>Japan</td>\n",
       "      <td>364,445</td>\n",
       "      <td>8</td>\n",
       "      <td>$254,694</td>\n",
       "      <td>7.7%</td>\n",
       "      <td>$16,899.3</td>\n",
       "      <td>-12.3%</td>\n",
       "      <td>$437,575</td>\n",
       "    </tr>\n",
       "  </tbody>\n",
       "</table>\n",
       "</div>"
      ],
      "text/plain": [
       "   Rank              Company Name Country Number of Employees Previous Rank   \n",
       "0     1                   Walmart     USA           2,300,000             1  \\\n",
       "1     2                State Grid   China             926,067             2   \n",
       "2     3             Sinopec Group   China             713,288             4   \n",
       "3     4  China National Petroleum   China           1,512,048             3   \n",
       "4     5              Toyota Motor   Japan             364,445             8   \n",
       "\n",
       "  Revenues($millions) Revenue Change Profits($millions) Profit Change   \n",
       "0            $485,873           0.8%         $13,643.0          -7.2%  \\\n",
       "1            $315,199          -4.4%          $9,571.3          -6.2%   \n",
       "2            $267,518          -9.1%          $1,257.9         -65.0%   \n",
       "3            $262,573         -12.3%          $1,867.5         -73.7%   \n",
       "4            $254,694           7.7%         $16,899.3         -12.3%   \n",
       "\n",
       "  Assets($millions)  \n",
       "0          $198,825  \n",
       "1          $489,838  \n",
       "2          $310,726  \n",
       "3          $585,619  \n",
       "4          $437,575  "
      ]
     },
     "execution_count": 108,
     "metadata": {},
     "output_type": "execute_result"
    }
   ],
   "source": [
    "# Load data\n",
    "df = pd.read_csv('Global 500_2017.csv')\n",
    "df.head()"
   ]
  },
  {
   "cell_type": "code",
   "execution_count": 109,
   "metadata": {},
   "outputs": [
    {
     "name": "stdout",
     "output_type": "stream",
     "text": [
      "<class 'pandas.core.frame.DataFrame'>\n",
      "RangeIndex: 500 entries, 0 to 499\n",
      "Data columns (total 10 columns):\n",
      " #   Column               Non-Null Count  Dtype \n",
      "---  ------               --------------  ----- \n",
      " 0   Rank                 500 non-null    int64 \n",
      " 1   Company Name         500 non-null    object\n",
      " 2   Country              500 non-null    object\n",
      " 3   Number of Employees  500 non-null    object\n",
      " 4   Previous Rank        500 non-null    object\n",
      " 5   Revenues($millions)  500 non-null    object\n",
      " 6   Revenue Change       500 non-null    object\n",
      " 7   Profits($millions)   500 non-null    object\n",
      " 8   Profit Change        500 non-null    object\n",
      " 9   Assets($millions)    500 non-null    object\n",
      "dtypes: int64(1), object(9)\n",
      "memory usage: 39.2+ KB\n"
     ]
    }
   ],
   "source": [
    "# Analyze data\n",
    "df.info()"
   ]
  },
  {
   "cell_type": "code",
   "execution_count": 110,
   "metadata": {},
   "outputs": [
    {
     "data": {
      "text/plain": [
       "(500, 10)"
      ]
     },
     "execution_count": 110,
     "metadata": {},
     "output_type": "execute_result"
    }
   ],
   "source": [
    "df.shape"
   ]
  },
  {
   "cell_type": "code",
   "execution_count": 111,
   "metadata": {},
   "outputs": [
    {
     "data": {
      "text/plain": [
       "Rank                   500\n",
       "Company Name           500\n",
       "Country                500\n",
       "Number of Employees    500\n",
       "Previous Rank          500\n",
       "Revenues($millions)    500\n",
       "Revenue Change         500\n",
       "Profits($millions)     500\n",
       "Profit Change          500\n",
       "Assets($millions)      500\n",
       "dtype: int64"
      ]
     },
     "execution_count": 111,
     "metadata": {},
     "output_type": "execute_result"
    }
   ],
   "source": [
    "df.count()"
   ]
  },
  {
   "cell_type": "code",
   "execution_count": 112,
   "metadata": {},
   "outputs": [],
   "source": [
    "# Replace empty with null values\n",
    "df['Profits($millions)'] = df['Profits($millions)'].replace('-', np.nan)\n",
    "df['Revenue Change'] = df['Revenue Change'].replace('-', np.nan)\n",
    "df['Profit Change'] = df['Profit Change'].replace('-', np.nan)\n",
    "df['Previous Rank'] = df['Previous Rank'].replace('-', np.nan)"
   ]
  },
  {
   "cell_type": "code",
   "execution_count": 113,
   "metadata": {},
   "outputs": [],
   "source": [
    "# Change the types\n",
    "df['Revenues($millions)'] = df['Revenues($millions)'].str.replace('$', '').str.replace(',', '').astype('float')\n",
    "df['Profits($millions)'] = df['Profits($millions)'].str.replace('$', '').str.replace(',', '').astype('float')\n",
    "df['Assets($millions)'] = df['Assets($millions)'].str.replace('$', '').str.replace(',', '').astype('float')\n",
    "df['Profit Change'] = df['Profit Change'].str.replace('%', '').str.replace(',', '').astype('float')\n",
    "df['Number of Employees'] = df['Number of Employees'].str.replace(',', '').astype('float')\n",
    "df['Revenue Change'] = df['Revenue Change'].str.replace('%', '').astype('float')\n",
    "df['Previous Rank'] = df['Previous Rank'].astype('float')"
   ]
  },
  {
   "cell_type": "code",
   "execution_count": 114,
   "metadata": {},
   "outputs": [
    {
     "name": "stdout",
     "output_type": "stream",
     "text": [
      "226.0 -199.0\n"
     ]
    }
   ],
   "source": [
    "rank_change = df['Previous Rank'] - df['Rank']\n",
    "rank_change_max = rank_change.max()\n",
    "rank_change_min = rank_change.min()\n",
    "print(rank_change_max, rank_change_min)"
   ]
  },
  {
   "cell_type": "code",
   "execution_count": 115,
   "metadata": {},
   "outputs": [
    {
     "data": {
      "text/plain": [
       "count    500.000000\n",
       "mean     250.500000\n",
       "std      144.481833\n",
       "min        1.000000\n",
       "25%      125.750000\n",
       "50%      250.500000\n",
       "75%      375.250000\n",
       "max      500.000000\n",
       "Name: Rank, dtype: float64"
      ]
     },
     "execution_count": 115,
     "metadata": {},
     "output_type": "execute_result"
    }
   ],
   "source": [
    "rank = df['Rank']\n",
    "rank.describe()"
   ]
  },
  {
   "cell_type": "code",
   "execution_count": 116,
   "metadata": {},
   "outputs": [
    {
     "data": {
      "text/plain": [
       "count    467.000000\n",
       "mean     237.830835\n",
       "std      139.211279\n",
       "min        1.000000\n",
       "25%      117.500000\n",
       "50%      236.000000\n",
       "75%      355.500000\n",
       "max      500.000000\n",
       "Name: Previous Rank, dtype: float64"
      ]
     },
     "execution_count": 116,
     "metadata": {},
     "output_type": "execute_result"
    }
   ],
   "source": [
    "prev_rank = df['Previous Rank']\n",
    "prev_rank.describe()"
   ]
  },
  {
   "cell_type": "code",
   "execution_count": 117,
   "metadata": {},
   "outputs": [
    {
     "name": "stdout",
     "output_type": "stream",
     "text": [
      "Rank                       500.0\n",
      "Number of Employees    2300000.0\n",
      "Previous Rank              500.0\n",
      "Revenues($millions)     485873.0\n",
      "Revenue Change             442.3\n",
      "Profits($millions)       45687.0\n",
      "Profit Change            89095.0\n",
      "Assets($millions)      3473238.0\n",
      "dtype: float64\n"
     ]
    }
   ],
   "source": [
    "print(df.max(numeric_only=True))"
   ]
  },
  {
   "cell_type": "code",
   "execution_count": 118,
   "metadata": {},
   "outputs": [
    {
     "name": "stdout",
     "output_type": "stream",
     "text": [
      "<class 'pandas.core.frame.DataFrame'>\n",
      "RangeIndex: 500 entries, 0 to 499\n",
      "Data columns (total 10 columns):\n",
      " #   Column               Non-Null Count  Dtype  \n",
      "---  ------               --------------  -----  \n",
      " 0   Rank                 500 non-null    int64  \n",
      " 1   Company Name         500 non-null    object \n",
      " 2   Country              500 non-null    object \n",
      " 3   Number of Employees  500 non-null    float64\n",
      " 4   Previous Rank        467 non-null    float64\n",
      " 5   Revenues($millions)  500 non-null    float64\n",
      " 6   Revenue Change       498 non-null    float64\n",
      " 7   Profits($millions)   499 non-null    float64\n",
      " 8   Profit Change        436 non-null    float64\n",
      " 9   Assets($millions)    500 non-null    float64\n",
      "dtypes: float64(7), int64(1), object(2)\n",
      "memory usage: 39.2+ KB\n"
     ]
    }
   ],
   "source": [
    "df.info()"
   ]
  },
  {
   "cell_type": "code",
   "execution_count": 119,
   "metadata": {},
   "outputs": [
    {
     "data": {
      "text/plain": [
       "Rank                   0\n",
       "Company Name           0\n",
       "Country                0\n",
       "Number of Employees    0\n",
       "Previous Rank          0\n",
       "Revenues($millions)    0\n",
       "Revenue Change         0\n",
       "Profits($millions)     0\n",
       "Profit Change          0\n",
       "Assets($millions)      0\n",
       "dtype: int64"
      ]
     },
     "execution_count": 119,
     "metadata": {},
     "output_type": "execute_result"
    }
   ],
   "source": [
    "df.eq('').sum()\n"
   ]
  },
  {
   "cell_type": "code",
   "execution_count": 120,
   "metadata": {},
   "outputs": [
    {
     "data": {
      "text/html": [
       "<div>\n",
       "<style scoped>\n",
       "    .dataframe tbody tr th:only-of-type {\n",
       "        vertical-align: middle;\n",
       "    }\n",
       "\n",
       "    .dataframe tbody tr th {\n",
       "        vertical-align: top;\n",
       "    }\n",
       "\n",
       "    .dataframe thead th {\n",
       "        text-align: right;\n",
       "    }\n",
       "</style>\n",
       "<table border=\"1\" class=\"dataframe\">\n",
       "  <thead>\n",
       "    <tr style=\"text-align: right;\">\n",
       "      <th></th>\n",
       "      <th>Rank</th>\n",
       "      <th>Company Name</th>\n",
       "      <th>Country</th>\n",
       "      <th>Number of Employees</th>\n",
       "      <th>Previous Rank</th>\n",
       "      <th>Revenues($millions)</th>\n",
       "      <th>Revenue Change</th>\n",
       "      <th>Profits($millions)</th>\n",
       "      <th>Profit Change</th>\n",
       "      <th>Assets($millions)</th>\n",
       "    </tr>\n",
       "  </thead>\n",
       "  <tbody>\n",
       "    <tr>\n",
       "      <th>count</th>\n",
       "      <td>500.000000</td>\n",
       "      <td>500</td>\n",
       "      <td>500</td>\n",
       "      <td>5.000000e+02</td>\n",
       "      <td>467.000000</td>\n",
       "      <td>500.000000</td>\n",
       "      <td>498.000000</td>\n",
       "      <td>499.000000</td>\n",
       "      <td>436.000000</td>\n",
       "      <td>5.000000e+02</td>\n",
       "    </tr>\n",
       "    <tr>\n",
       "      <th>unique</th>\n",
       "      <td>NaN</td>\n",
       "      <td>500</td>\n",
       "      <td>35</td>\n",
       "      <td>NaN</td>\n",
       "      <td>NaN</td>\n",
       "      <td>NaN</td>\n",
       "      <td>NaN</td>\n",
       "      <td>NaN</td>\n",
       "      <td>NaN</td>\n",
       "      <td>NaN</td>\n",
       "    </tr>\n",
       "    <tr>\n",
       "      <th>top</th>\n",
       "      <td>NaN</td>\n",
       "      <td>Walmart</td>\n",
       "      <td>USA</td>\n",
       "      <td>NaN</td>\n",
       "      <td>NaN</td>\n",
       "      <td>NaN</td>\n",
       "      <td>NaN</td>\n",
       "      <td>NaN</td>\n",
       "      <td>NaN</td>\n",
       "      <td>NaN</td>\n",
       "    </tr>\n",
       "    <tr>\n",
       "      <th>freq</th>\n",
       "      <td>NaN</td>\n",
       "      <td>1</td>\n",
       "      <td>132</td>\n",
       "      <td>NaN</td>\n",
       "      <td>NaN</td>\n",
       "      <td>NaN</td>\n",
       "      <td>NaN</td>\n",
       "      <td>NaN</td>\n",
       "      <td>NaN</td>\n",
       "      <td>NaN</td>\n",
       "    </tr>\n",
       "    <tr>\n",
       "      <th>mean</th>\n",
       "      <td>250.500000</td>\n",
       "      <td>NaN</td>\n",
       "      <td>NaN</td>\n",
       "      <td>1.355357e+05</td>\n",
       "      <td>237.830835</td>\n",
       "      <td>55416.358000</td>\n",
       "      <td>4.538353</td>\n",
       "      <td>3055.203206</td>\n",
       "      <td>208.064450</td>\n",
       "      <td>2.436323e+05</td>\n",
       "    </tr>\n",
       "    <tr>\n",
       "      <th>std</th>\n",
       "      <td>144.481833</td>\n",
       "      <td>NaN</td>\n",
       "      <td>NaN</td>\n",
       "      <td>1.708994e+05</td>\n",
       "      <td>139.211279</td>\n",
       "      <td>45725.478963</td>\n",
       "      <td>28.549067</td>\n",
       "      <td>5171.981071</td>\n",
       "      <td>4267.811828</td>\n",
       "      <td>4.851937e+05</td>\n",
       "    </tr>\n",
       "    <tr>\n",
       "      <th>min</th>\n",
       "      <td>1.000000</td>\n",
       "      <td>NaN</td>\n",
       "      <td>NaN</td>\n",
       "      <td>1.000000e+03</td>\n",
       "      <td>1.000000</td>\n",
       "      <td>21609.000000</td>\n",
       "      <td>-67.300000</td>\n",
       "      <td>-13038.000000</td>\n",
       "      <td>-793.700000</td>\n",
       "      <td>3.717000e+03</td>\n",
       "    </tr>\n",
       "    <tr>\n",
       "      <th>25%</th>\n",
       "      <td>125.750000</td>\n",
       "      <td>NaN</td>\n",
       "      <td>NaN</td>\n",
       "      <td>4.324075e+04</td>\n",
       "      <td>117.500000</td>\n",
       "      <td>29003.000000</td>\n",
       "      <td>-5.900000</td>\n",
       "      <td>556.950000</td>\n",
       "      <td>-22.775000</td>\n",
       "      <td>3.658850e+04</td>\n",
       "    </tr>\n",
       "    <tr>\n",
       "      <th>50%</th>\n",
       "      <td>250.500000</td>\n",
       "      <td>NaN</td>\n",
       "      <td>NaN</td>\n",
       "      <td>9.425100e+04</td>\n",
       "      <td>236.000000</td>\n",
       "      <td>40236.000000</td>\n",
       "      <td>0.550000</td>\n",
       "      <td>1761.600000</td>\n",
       "      <td>-0.350000</td>\n",
       "      <td>7.326150e+04</td>\n",
       "    </tr>\n",
       "    <tr>\n",
       "      <th>75%</th>\n",
       "      <td>375.250000</td>\n",
       "      <td>NaN</td>\n",
       "      <td>NaN</td>\n",
       "      <td>1.695972e+05</td>\n",
       "      <td>355.500000</td>\n",
       "      <td>63926.750000</td>\n",
       "      <td>6.975000</td>\n",
       "      <td>3954.000000</td>\n",
       "      <td>17.700000</td>\n",
       "      <td>1.805640e+05</td>\n",
       "    </tr>\n",
       "    <tr>\n",
       "      <th>max</th>\n",
       "      <td>500.000000</td>\n",
       "      <td>NaN</td>\n",
       "      <td>NaN</td>\n",
       "      <td>2.300000e+06</td>\n",
       "      <td>500.000000</td>\n",
       "      <td>485873.000000</td>\n",
       "      <td>442.300000</td>\n",
       "      <td>45687.000000</td>\n",
       "      <td>89095.000000</td>\n",
       "      <td>3.473238e+06</td>\n",
       "    </tr>\n",
       "  </tbody>\n",
       "</table>\n",
       "</div>"
      ],
      "text/plain": [
       "              Rank Company Name Country  Number of Employees  Previous Rank   \n",
       "count   500.000000          500     500         5.000000e+02     467.000000  \\\n",
       "unique         NaN          500      35                  NaN            NaN   \n",
       "top            NaN      Walmart     USA                  NaN            NaN   \n",
       "freq           NaN            1     132                  NaN            NaN   \n",
       "mean    250.500000          NaN     NaN         1.355357e+05     237.830835   \n",
       "std     144.481833          NaN     NaN         1.708994e+05     139.211279   \n",
       "min       1.000000          NaN     NaN         1.000000e+03       1.000000   \n",
       "25%     125.750000          NaN     NaN         4.324075e+04     117.500000   \n",
       "50%     250.500000          NaN     NaN         9.425100e+04     236.000000   \n",
       "75%     375.250000          NaN     NaN         1.695972e+05     355.500000   \n",
       "max     500.000000          NaN     NaN         2.300000e+06     500.000000   \n",
       "\n",
       "        Revenues($millions)  Revenue Change  Profits($millions)   \n",
       "count            500.000000      498.000000          499.000000  \\\n",
       "unique                  NaN             NaN                 NaN   \n",
       "top                     NaN             NaN                 NaN   \n",
       "freq                    NaN             NaN                 NaN   \n",
       "mean           55416.358000        4.538353         3055.203206   \n",
       "std            45725.478963       28.549067         5171.981071   \n",
       "min            21609.000000      -67.300000       -13038.000000   \n",
       "25%            29003.000000       -5.900000          556.950000   \n",
       "50%            40236.000000        0.550000         1761.600000   \n",
       "75%            63926.750000        6.975000         3954.000000   \n",
       "max           485873.000000      442.300000        45687.000000   \n",
       "\n",
       "        Profit Change  Assets($millions)  \n",
       "count      436.000000       5.000000e+02  \n",
       "unique            NaN                NaN  \n",
       "top               NaN                NaN  \n",
       "freq              NaN                NaN  \n",
       "mean       208.064450       2.436323e+05  \n",
       "std       4267.811828       4.851937e+05  \n",
       "min       -793.700000       3.717000e+03  \n",
       "25%        -22.775000       3.658850e+04  \n",
       "50%         -0.350000       7.326150e+04  \n",
       "75%         17.700000       1.805640e+05  \n",
       "max      89095.000000       3.473238e+06  "
      ]
     },
     "execution_count": 120,
     "metadata": {},
     "output_type": "execute_result"
    }
   ],
   "source": [
    "df.describe(include='all')"
   ]
  },
  {
   "cell_type": "code",
   "execution_count": 121,
   "metadata": {},
   "outputs": [
    {
     "data": {
      "text/html": [
       "<div>\n",
       "<style scoped>\n",
       "    .dataframe tbody tr th:only-of-type {\n",
       "        vertical-align: middle;\n",
       "    }\n",
       "\n",
       "    .dataframe tbody tr th {\n",
       "        vertical-align: top;\n",
       "    }\n",
       "\n",
       "    .dataframe thead th {\n",
       "        text-align: right;\n",
       "    }\n",
       "</style>\n",
       "<table border=\"1\" class=\"dataframe\">\n",
       "  <thead>\n",
       "    <tr style=\"text-align: right;\">\n",
       "      <th></th>\n",
       "      <th>Rank</th>\n",
       "      <th>Company Name</th>\n",
       "      <th>Revenues($millions)</th>\n",
       "    </tr>\n",
       "  </thead>\n",
       "  <tbody>\n",
       "    <tr>\n",
       "      <th>0</th>\n",
       "      <td>1</td>\n",
       "      <td>Walmart</td>\n",
       "      <td>485873.0</td>\n",
       "    </tr>\n",
       "    <tr>\n",
       "      <th>1</th>\n",
       "      <td>2</td>\n",
       "      <td>State Grid</td>\n",
       "      <td>315199.0</td>\n",
       "    </tr>\n",
       "    <tr>\n",
       "      <th>2</th>\n",
       "      <td>3</td>\n",
       "      <td>Sinopec Group</td>\n",
       "      <td>267518.0</td>\n",
       "    </tr>\n",
       "    <tr>\n",
       "      <th>3</th>\n",
       "      <td>4</td>\n",
       "      <td>China National Petroleum</td>\n",
       "      <td>262573.0</td>\n",
       "    </tr>\n",
       "    <tr>\n",
       "      <th>4</th>\n",
       "      <td>5</td>\n",
       "      <td>Toyota Motor</td>\n",
       "      <td>254694.0</td>\n",
       "    </tr>\n",
       "    <tr>\n",
       "      <th>5</th>\n",
       "      <td>6</td>\n",
       "      <td>Volkswagen</td>\n",
       "      <td>240264.0</td>\n",
       "    </tr>\n",
       "    <tr>\n",
       "      <th>6</th>\n",
       "      <td>7</td>\n",
       "      <td>Royal Dutch Shell</td>\n",
       "      <td>240033.0</td>\n",
       "    </tr>\n",
       "    <tr>\n",
       "      <th>7</th>\n",
       "      <td>8</td>\n",
       "      <td>Berkshire Hathaway</td>\n",
       "      <td>223604.0</td>\n",
       "    </tr>\n",
       "    <tr>\n",
       "      <th>8</th>\n",
       "      <td>9</td>\n",
       "      <td>Apple</td>\n",
       "      <td>215639.0</td>\n",
       "    </tr>\n",
       "    <tr>\n",
       "      <th>9</th>\n",
       "      <td>10</td>\n",
       "      <td>Exxon Mobil</td>\n",
       "      <td>205004.0</td>\n",
       "    </tr>\n",
       "  </tbody>\n",
       "</table>\n",
       "</div>"
      ],
      "text/plain": [
       "   Rank              Company Name  Revenues($millions)\n",
       "0     1                   Walmart             485873.0\n",
       "1     2                State Grid             315199.0\n",
       "2     3             Sinopec Group             267518.0\n",
       "3     4  China National Petroleum             262573.0\n",
       "4     5              Toyota Motor             254694.0\n",
       "5     6                Volkswagen             240264.0\n",
       "6     7         Royal Dutch Shell             240033.0\n",
       "7     8        Berkshire Hathaway             223604.0\n",
       "8     9                     Apple             215639.0\n",
       "9    10               Exxon Mobil             205004.0"
      ]
     },
     "execution_count": 121,
     "metadata": {},
     "output_type": "execute_result"
    }
   ],
   "source": [
    "top10_rank_revenue = df[[\"Rank\", \"Company Name\", \"Revenues($millions)\"]].head(10)\n",
    "top10_rank_revenue"
   ]
  }
 ],
 "metadata": {
  "kernelspec": {
   "display_name": "databay",
   "language": "python",
   "name": "python3"
  },
  "language_info": {
   "codemirror_mode": {
    "name": "ipython",
    "version": 3
   },
   "file_extension": ".py",
   "mimetype": "text/x-python",
   "name": "python",
   "nbconvert_exporter": "python",
   "pygments_lexer": "ipython3",
   "version": "3.9.16"
  },
  "orig_nbformat": 4
 },
 "nbformat": 4,
 "nbformat_minor": 2
}
