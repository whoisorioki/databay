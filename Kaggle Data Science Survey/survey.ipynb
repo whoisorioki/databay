{
 "cells": [
  {
   "cell_type": "markdown",
   "metadata": {},
   "source": [
    "# Kaggle Data Science Survey\n",
    "Guided project by Dataquest. Here are what we are going to do in this project:\n",
    " - Clean the dataset\n",
    " - Analyze the dataset\n",
    " - Learn about the relationship between years of experience and salary in the dataset\n",
    " "
   ]
  },
  {
   "cell_type": "markdown",
   "metadata": {},
   "source": [
    "## Loading and Cleaning the Data"
   ]
  },
  {
   "cell_type": "code",
   "execution_count": 1,
   "metadata": {
    "tags": []
   },
   "outputs": [
    {
     "name": "stdout",
     "output_type": "stream",
     "text": [
      "['experience_coding', 'python_user', 'r_user', 'sql_user', 'most_used', 'compensation']\n",
      "[['6.1', 'TRUE', 'FALSE', 'TRUE', 'Scikit-learn', '124267'], ['12.3', 'TRUE', 'TRUE', 'TRUE', 'Scikit-learn', '236889']]\n"
     ]
    }
   ],
   "source": [
    "import csv\n",
    "\n",
    "with open('kaggle2021-short.csv') as f:\n",
    "    reader = csv.reader(f, delimiter=\",\")\n",
    "    kaggle_data = list(reader)\n",
    "\n",
    "column_names = kaggle_data[0]\n",
    "survey_responses = kaggle_data[1:]\n",
    "\n",
    "print(column_names)\n",
    "print(survey_responses[0:2])\n"
   ]
  },
  {
   "cell_type": "code",
   "execution_count": 2,
   "metadata": {
    "tags": []
   },
   "outputs": [
    {
     "name": "stdout",
     "output_type": "stream",
     "text": [
      "[[6.1, True, False, True, 'Scikit-learn', 124267], [12.3, True, True, True, 'Scikit-learn', 236889]]\n"
     ]
    }
   ],
   "source": [
    "for response in survey_responses:\n",
    "    # experience_coding\n",
    "    response[0] = float(response[0])\n",
    "\n",
    "    # python_user\n",
    "    if response[1] == \"TRUE\":\n",
    "        response[1] = True\n",
    "    else:\n",
    "        response[1] = False\n",
    "\n",
    "    # r_user\n",
    "    if response[2] == \"TRUE\":\n",
    "        response[2] = True\n",
    "    else:\n",
    "        response[2] = False\n",
    "\n",
    "    # sql_user\n",
    "    if response[3] == \"TRUE\":\n",
    "        response[3] = True\n",
    "    else:\n",
    "        response[3] = False\n",
    "\n",
    "    # most_used\n",
    "    if response[4] == \"None\":\n",
    "        response[4] = None\n",
    "    else:\n",
    "        response[4] = response[4]\n",
    "\n",
    "    # compensation\n",
    "    response[5] = int(response[5])\n",
    "\n",
    "print(survey_responses[0:2])\n"
   ]
  },
  {
   "cell_type": "markdown",
   "metadata": {},
   "source": [
    "## Counting People"
   ]
  },
  {
   "cell_type": "code",
   "execution_count": 3,
   "metadata": {
    "tags": []
   },
   "outputs": [
    {
     "name": "stdout",
     "output_type": "stream",
     "text": [
      "Python Users: 21860(84.16%), R Users: 5335(20.54%), SQL Users: 10757(41.42%)\n"
     ]
    }
   ],
   "source": [
    "python_users = 0\n",
    "r_users = 0\n",
    "sql_users = 0\n",
    "\n",
    "for response in survey_responses:\n",
    "    if response[1] == True:\n",
    "        python_users += 1\n",
    "    if response[2] == True:\n",
    "        r_users += 1\n",
    "    if response[3] == True:\n",
    "        sql_users += 1\n",
    "\n",
    "proportion_python = (python_users / len(survey_responses)) * 100\n",
    "proportion_r = (r_users / len(survey_responses)) * 100\n",
    "proportion_sql = (sql_users / len(survey_responses)) * 100\n",
    "\n",
    "print(f'Python Users: {python_users}({proportion_python:.2f}%), R Users: {r_users}({proportion_r:.2f}%), SQL Users: {sql_users}({proportion_sql:.2f}%)')\n"
   ]
  },
  {
   "cell_type": "markdown",
   "metadata": {},
   "source": [
    "## Aggregating Information"
   ]
  },
  {
   "cell_type": "code",
   "execution_count": 4,
   "metadata": {
    "tags": []
   },
   "outputs": [
    {
     "name": "stdout",
     "output_type": "stream",
     "text": [
      "Minimum years of experience: 0.0\n",
      "Maximum years of experience: 30.0\n",
      "Average years in experience: 5.30\n",
      "Minimum salary: $0\n",
      "Maximum salary: $1492951\n",
      "Average salary: $53253\n"
     ]
    }
   ],
   "source": [
    "years_of_experience = []\n",
    "salary = []\n",
    "\n",
    "for response in survey_responses:\n",
    "    years_of_experience.append(response[0])\n",
    "    salary.append(response[5])\n",
    "\n",
    "minimum_years = min(years_of_experience)\n",
    "maximum_years = max(years_of_experience)\n",
    "average_years = sum(years_of_experience) / len(years_of_experience)\n",
    "minimum_salary = min(salary)\n",
    "maximum_salary = max(salary)\n",
    "average_salary = sum(salary) / len(salary)\n",
    "\n",
    "# years_of_experience\n",
    "print(f'Minimum years of experience: {minimum_years}')\n",
    "print(f'Maximum years of experience: {maximum_years}')\n",
    "print(f'Average years in experience: {average_years:.2f}')\n",
    "\n",
    "# salary\n",
    "print(f'Minimum salary: ${minimum_salary}')\n",
    "print(f'Maximum salary: ${maximum_salary}')\n",
    "print(f'Average salary: ${average_salary:.0f}')\n"
   ]
  },
  {
   "cell_type": "markdown",
   "metadata": {},
   "source": [
    "## Categorizing Years of Experience"
   ]
  },
  {
   "cell_type": "code",
   "execution_count": 5,
   "metadata": {
    "tags": []
   },
   "outputs": [
    {
     "name": "stdout",
     "output_type": "stream",
     "text": [
      "[[6.1, True, False, True, 'Scikit-learn', 124267, '7-12 years'], [12.3, True, True, True, 'Scikit-learn', 236889, '13-18 years']]\n"
     ]
    }
   ],
   "source": [
    "for response in survey_responses:\n",
    "    if response[0] <= 6:\n",
    "        response.append('less than 6 years')\n",
    "    elif response[0] > 6 and response[0] <= 12:\n",
    "        response.append('7-12 years')\n",
    "    elif response[0] > 12 and response[0] <= 18:\n",
    "        response.append('13-18 years')\n",
    "    elif response[0] > 18 and response[0] <= 24:\n",
    "        response.append('19-24 years')\n",
    "    elif response[0] > 24:\n",
    "        response.append('more than 24 years')\n",
    "\n",
    "print(survey_responses[0:2])\n"
   ]
  },
  {
   "cell_type": "markdown",
   "metadata": {},
   "source": [
    "## Distribution of Experience and Compensation"
   ]
  },
  {
   "cell_type": "code",
   "execution_count": 8,
   "metadata": {
    "tags": []
   },
   "outputs": [
    {
     "name": "stdout",
     "output_type": "stream",
     "text": [
      "19508 data professionals have experience less than 6 years.\n",
      "2899 data professionals have experience for 7 to 12 years.\n",
      "1284 data professionals have experience for 13 to 18 years.\n",
      "1191 data professionals have experience for 19 to 24 years.\n",
      "1091 data professionals have experience more than 24 years.\n",
      "\n",
      "Data professionals with less than 6 years of experience have an average salary of $45429.14.\n",
      "Data professionals with 7 - 12 years of experience have an average salary of $64173.32.\n",
      "Data professionals with 13 - 18 years of experience have an average salary of $76799.69.\n",
      "Data professionals with 19 - 24 years of experience have an average salary of $91421.98.\n",
      "Data professionals with more than 24 years of experience have an average salary of $94748.73.\n"
     ]
    }
   ],
   "source": [
    "less_six = []\n",
    "seven_twelve = []\n",
    "thirteen_eighteen = []\n",
    "nineteen_twentyfour = []\n",
    "more_twentyfour = []\n",
    "\n",
    "for response in survey_responses:\n",
    "    if response[6] == 'less than 6 years':\n",
    "        less_six.append(response[5])\n",
    "    if response[6] == '7-12 years':\n",
    "        seven_twelve.append(response[5])\n",
    "    if response[6] == '13-18 years':\n",
    "        thirteen_eighteen.append(response[5])\n",
    "    if response[6] == '19-24 years':\n",
    "        nineteen_twentyfour.append(response[5])\n",
    "    if response[6] == 'more than 24 years':\n",
    "        more_twentyfour.append(response[5])\n",
    "\n",
    "len1 = len(less_six)\n",
    "len2 = len(seven_twelve)\n",
    "len3 = len(thirteen_eighteen)\n",
    "len4 = len(nineteen_twentyfour)\n",
    "len5 = len(more_twentyfour)\n",
    "\n",
    "print(f'{len1} data professionals have experience less than 6 years.')\n",
    "print(f'{len2} data professionals have experience for 7 to 12 years.')\n",
    "print(f'{len3} data professionals have experience for 13 to 18 years.')\n",
    "print(f'{len4} data professionals have experience for 19 to 24 years.')\n",
    "print(f'{len5} data professionals have experience more than 24 years.')\n",
    "\n",
    "average1 = sum(less_six) / len1\n",
    "average2 = sum(seven_twelve) / len2\n",
    "average3 = sum(thirteen_eighteen) / len3\n",
    "average4 = sum(nineteen_twentyfour) / len4\n",
    "average5 = sum(more_twentyfour) / len5\n",
    "\n",
    "print()\n",
    "print(f'Data professionals with less than 6 years of experience have an average salary of ${average1:.2f}.')\n",
    "print(f'Data professionals with 7 - 12 years of experience have an average salary of ${average2:.2f}.')\n",
    "print(f'Data professionals with 13 - 18 years of experience have an average salary of ${average3:.2f}.')\n",
    "print(f'Data professionals with 19 - 24 years of experience have an average salary of ${average4:.2f}.')\n",
    "print(f'Data professionals with more than 24 years of experience have an average salary of ${average5:.2f}.')\n"
   ]
  },
  {
   "cell_type": "markdown",
   "metadata": {},
   "source": [
    "## Summary of Findings"
   ]
  },
  {
   "attachments": {},
   "cell_type": "markdown",
   "metadata": {},
   "source": [
    "1. There are more data professionals that have experience less than 6 years than all the others that have more than 6 years of experience. This implies that most of the data professionals that took the survey were mostly young in the industry\n",
    "2. The salary change across the years is even. The data professionals with longer years of experience have the highest compensation then gradually decreases across the years towards 0 years."
   ]
  }
 ],
 "metadata": {
  "kernelspec": {
   "display_name": "Python 3 (ipykernel)",
   "language": "python",
   "name": "python3"
  },
  "language_info": {
   "codemirror_mode": {
    "name": "ipython",
    "version": 3
   },
   "file_extension": ".py",
   "mimetype": "text/x-python",
   "name": "python",
   "nbconvert_exporter": "python",
   "pygments_lexer": "ipython3",
   "version": "3.9.16"
  }
 },
 "nbformat": 4,
 "nbformat_minor": 4
}
