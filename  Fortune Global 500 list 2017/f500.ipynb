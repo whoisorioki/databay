{
 "cells": [
  {
   "cell_type": "code",
   "execution_count": 1,
   "metadata": {},
   "outputs": [],
   "source": [
    "# Import libraries\n",
    "import pandas as pd\n",
    "import numpy as np"
   ]
  },
  {
   "cell_type": "code",
   "execution_count": 2,
   "metadata": {},
   "outputs": [
    {
     "data": {
      "text/html": [
       "<div>\n",
       "<style scoped>\n",
       "    .dataframe tbody tr th:only-of-type {\n",
       "        vertical-align: middle;\n",
       "    }\n",
       "\n",
       "    .dataframe tbody tr th {\n",
       "        vertical-align: top;\n",
       "    }\n",
       "\n",
       "    .dataframe thead th {\n",
       "        text-align: right;\n",
       "    }\n",
       "</style>\n",
       "<table border=\"1\" class=\"dataframe\">\n",
       "  <thead>\n",
       "    <tr style=\"text-align: right;\">\n",
       "      <th></th>\n",
       "      <th>Rank</th>\n",
       "      <th>Company Name</th>\n",
       "      <th>Country</th>\n",
       "      <th>Number of Employees</th>\n",
       "      <th>Previous Rank</th>\n",
       "      <th>Revenues($millions)</th>\n",
       "      <th>Revenue Change</th>\n",
       "      <th>Profits($millions)</th>\n",
       "      <th>Profit Change</th>\n",
       "      <th>Assets($millions)</th>\n",
       "    </tr>\n",
       "  </thead>\n",
       "  <tbody>\n",
       "    <tr>\n",
       "      <th>0</th>\n",
       "      <td>1</td>\n",
       "      <td>Walmart</td>\n",
       "      <td>USA</td>\n",
       "      <td>2,300,000</td>\n",
       "      <td>1</td>\n",
       "      <td>$485,873</td>\n",
       "      <td>0.8%</td>\n",
       "      <td>$13,643.0</td>\n",
       "      <td>-7.2%</td>\n",
       "      <td>$198,825</td>\n",
       "    </tr>\n",
       "    <tr>\n",
       "      <th>1</th>\n",
       "      <td>2</td>\n",
       "      <td>State Grid</td>\n",
       "      <td>China</td>\n",
       "      <td>926,067</td>\n",
       "      <td>2</td>\n",
       "      <td>$315,199</td>\n",
       "      <td>-4.4%</td>\n",
       "      <td>$9,571.3</td>\n",
       "      <td>-6.2%</td>\n",
       "      <td>$489,838</td>\n",
       "    </tr>\n",
       "    <tr>\n",
       "      <th>2</th>\n",
       "      <td>3</td>\n",
       "      <td>Sinopec Group</td>\n",
       "      <td>China</td>\n",
       "      <td>713,288</td>\n",
       "      <td>4</td>\n",
       "      <td>$267,518</td>\n",
       "      <td>-9.1%</td>\n",
       "      <td>$1,257.9</td>\n",
       "      <td>-65.0%</td>\n",
       "      <td>$310,726</td>\n",
       "    </tr>\n",
       "    <tr>\n",
       "      <th>3</th>\n",
       "      <td>4</td>\n",
       "      <td>China National Petroleum</td>\n",
       "      <td>China</td>\n",
       "      <td>1,512,048</td>\n",
       "      <td>3</td>\n",
       "      <td>$262,573</td>\n",
       "      <td>-12.3%</td>\n",
       "      <td>$1,867.5</td>\n",
       "      <td>-73.7%</td>\n",
       "      <td>$585,619</td>\n",
       "    </tr>\n",
       "    <tr>\n",
       "      <th>4</th>\n",
       "      <td>5</td>\n",
       "      <td>Toyota Motor</td>\n",
       "      <td>Japan</td>\n",
       "      <td>364,445</td>\n",
       "      <td>8</td>\n",
       "      <td>$254,694</td>\n",
       "      <td>7.7%</td>\n",
       "      <td>$16,899.3</td>\n",
       "      <td>-12.3%</td>\n",
       "      <td>$437,575</td>\n",
       "    </tr>\n",
       "  </tbody>\n",
       "</table>\n",
       "</div>"
      ],
      "text/plain": [
       "   Rank              Company Name Country Number of Employees Previous Rank   \n",
       "0     1                   Walmart     USA           2,300,000             1  \\\n",
       "1     2                State Grid   China             926,067             2   \n",
       "2     3             Sinopec Group   China             713,288             4   \n",
       "3     4  China National Petroleum   China           1,512,048             3   \n",
       "4     5              Toyota Motor   Japan             364,445             8   \n",
       "\n",
       "  Revenues($millions) Revenue Change Profits($millions) Profit Change   \n",
       "0            $485,873           0.8%         $13,643.0          -7.2%  \\\n",
       "1            $315,199          -4.4%          $9,571.3          -6.2%   \n",
       "2            $267,518          -9.1%          $1,257.9         -65.0%   \n",
       "3            $262,573         -12.3%          $1,867.5         -73.7%   \n",
       "4            $254,694           7.7%         $16,899.3         -12.3%   \n",
       "\n",
       "  Assets($millions)  \n",
       "0          $198,825  \n",
       "1          $489,838  \n",
       "2          $310,726  \n",
       "3          $585,619  \n",
       "4          $437,575  "
      ]
     },
     "execution_count": 2,
     "metadata": {},
     "output_type": "execute_result"
    }
   ],
   "source": [
    "# Load data\n",
    "df = pd.read_csv('Global 500_2017.csv')\n",
    "df.head()"
   ]
  },
  {
   "cell_type": "code",
   "execution_count": 3,
   "metadata": {},
   "outputs": [
    {
     "name": "stdout",
     "output_type": "stream",
     "text": [
      "<class 'pandas.core.frame.DataFrame'>\n",
      "RangeIndex: 500 entries, 0 to 499\n",
      "Data columns (total 10 columns):\n",
      " #   Column               Non-Null Count  Dtype \n",
      "---  ------               --------------  ----- \n",
      " 0   Rank                 500 non-null    int64 \n",
      " 1   Company Name         500 non-null    object\n",
      " 2   Country              500 non-null    object\n",
      " 3   Number of Employees  500 non-null    object\n",
      " 4   Previous Rank        500 non-null    object\n",
      " 5   Revenues($millions)  500 non-null    object\n",
      " 6   Revenue Change       500 non-null    object\n",
      " 7   Profits($millions)   500 non-null    object\n",
      " 8   Profit Change        500 non-null    object\n",
      " 9   Assets($millions)    500 non-null    object\n",
      "dtypes: int64(1), object(9)\n",
      "memory usage: 39.2+ KB\n"
     ]
    }
   ],
   "source": [
    "# Analyze data\n",
    "df.info()"
   ]
  },
  {
   "cell_type": "code",
   "execution_count": 4,
   "metadata": {},
   "outputs": [
    {
     "data": {
      "text/plain": [
       "(500, 10)"
      ]
     },
     "execution_count": 4,
     "metadata": {},
     "output_type": "execute_result"
    }
   ],
   "source": [
    "df.shape"
   ]
  },
  {
   "cell_type": "code",
   "execution_count": 5,
   "metadata": {},
   "outputs": [
    {
     "data": {
      "text/plain": [
       "Rank                   500\n",
       "Company Name           500\n",
       "Country                500\n",
       "Number of Employees    500\n",
       "Previous Rank          500\n",
       "Revenues($millions)    500\n",
       "Revenue Change         500\n",
       "Profits($millions)     500\n",
       "Profit Change          500\n",
       "Assets($millions)      500\n",
       "dtype: int64"
      ]
     },
     "execution_count": 5,
     "metadata": {},
     "output_type": "execute_result"
    }
   ],
   "source": [
    "df.count()"
   ]
  },
  {
   "cell_type": "code",
   "execution_count": 6,
   "metadata": {},
   "outputs": [],
   "source": [
    "# Replace empty with null values\n",
    "df['Profits($millions)'] = df['Profits($millions)'].replace('-', np.nan)\n",
    "df['Revenue Change'] = df['Revenue Change'].replace('-', np.nan)\n",
    "df['Profit Change'] = df['Profit Change'].replace('-', np.nan)\n",
    "df['Previous Rank'] = df['Previous Rank'].replace('-', np.nan)"
   ]
  },
  {
   "cell_type": "code",
   "execution_count": 7,
   "metadata": {},
   "outputs": [],
   "source": [
    "# Change the types\n",
    "df['Revenues($millions)'] = df['Revenues($millions)'].str.replace('$', '').str.replace(',', '').astype('float')\n",
    "df['Profits($millions)'] = df['Profits($millions)'].str.replace('$', '').str.replace(',', '').astype('float')\n",
    "df['Assets($millions)'] = df['Assets($millions)'].str.replace('$', '').str.replace(',', '').astype('float')\n",
    "df['Profit Change'] = df['Profit Change'].str.replace('%', '').str.replace(',', '').astype('float')\n",
    "df['Number of Employees'] = df['Number of Employees'].str.replace(',', '').astype('float')\n",
    "df['Revenue Change'] = df['Revenue Change'].str.replace('%', '').astype('float')\n",
    "df['Previous Rank'] = df['Previous Rank'].astype('float')"
   ]
  },
  {
   "cell_type": "code",
   "execution_count": 8,
   "metadata": {},
   "outputs": [
    {
     "name": "stdout",
     "output_type": "stream",
     "text": [
      "226.0 -199.0\n"
     ]
    }
   ],
   "source": [
    "rank_change = df['Previous Rank'] - df['Rank']\n",
    "rank_change_max = rank_change.max()\n",
    "rank_change_min = rank_change.min()\n",
    "print(rank_change_max, rank_change_min)"
   ]
  },
  {
   "cell_type": "code",
   "execution_count": 9,
   "metadata": {},
   "outputs": [
    {
     "data": {
      "text/plain": [
       "count    500.000000\n",
       "mean     250.500000\n",
       "std      144.481833\n",
       "min        1.000000\n",
       "25%      125.750000\n",
       "50%      250.500000\n",
       "75%      375.250000\n",
       "max      500.000000\n",
       "Name: Rank, dtype: float64"
      ]
     },
     "execution_count": 9,
     "metadata": {},
     "output_type": "execute_result"
    }
   ],
   "source": [
    "rank = df['Rank']\n",
    "rank.describe()"
   ]
  },
  {
   "cell_type": "code",
   "execution_count": 10,
   "metadata": {},
   "outputs": [
    {
     "data": {
      "text/plain": [
       "count    467.000000\n",
       "mean     237.830835\n",
       "std      139.211279\n",
       "min        1.000000\n",
       "25%      117.500000\n",
       "50%      236.000000\n",
       "75%      355.500000\n",
       "max      500.000000\n",
       "Name: Previous Rank, dtype: float64"
      ]
     },
     "execution_count": 10,
     "metadata": {},
     "output_type": "execute_result"
    }
   ],
   "source": [
    "prev_rank = df['Previous Rank']\n",
    "prev_rank.describe()"
   ]
  },
  {
   "cell_type": "code",
   "execution_count": 11,
   "metadata": {},
   "outputs": [
    {
     "name": "stdout",
     "output_type": "stream",
     "text": [
      "Rank                       500.0\n",
      "Number of Employees    2300000.0\n",
      "Previous Rank              500.0\n",
      "Revenues($millions)     485873.0\n",
      "Revenue Change             442.3\n",
      "Profits($millions)       45687.0\n",
      "Profit Change            89095.0\n",
      "Assets($millions)      3473238.0\n",
      "dtype: float64\n"
     ]
    }
   ],
   "source": [
    "print(df.max(numeric_only=True))"
   ]
  },
  {
   "cell_type": "code",
   "execution_count": null,
   "metadata": {},
   "outputs": [],
   "source": []
  }
 ],
 "metadata": {
  "kernelspec": {
   "display_name": "databay",
   "language": "python",
   "name": "python3"
  },
  "language_info": {
   "codemirror_mode": {
    "name": "ipython",
    "version": 3
   },
   "file_extension": ".py",
   "mimetype": "text/x-python",
   "name": "python",
   "nbconvert_exporter": "python",
   "pygments_lexer": "ipython3",
   "version": "3.9.16"
  },
  "orig_nbformat": 4
 },
 "nbformat": 4,
 "nbformat_minor": 2
}
